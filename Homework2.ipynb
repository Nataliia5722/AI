{
  "nbformat": 4,
  "nbformat_minor": 0,
  "metadata": {
    "colab": {
      "name": "Untitled7.ipynb",
      "provenance": [],
      "history_visible": true,
      "authorship_tag": "ABX9TyPIzyGisrwopxj6gvpyRpGA",
      "include_colab_link": true
    },
    "kernelspec": {
      "name": "python3",
      "display_name": "Python 3"
    },
    "language_info": {
      "name": "python"
    }
  },
  "cells": [
    {
      "cell_type": "markdown",
      "metadata": {
        "id": "view-in-github",
        "colab_type": "text"
      },
      "source": [
        "<a href=\"https://colab.research.google.com/github/Nataliia5722/AI/blob/main/Homework2.ipynb\" target=\"_parent\"><img src=\"https://colab.research.google.com/assets/colab-badge.svg\" alt=\"Open In Colab\"/></a>"
      ]
    },
    {
      "cell_type": "markdown",
      "metadata": {
        "id": "6J3fK_g0wDNy"
      },
      "source": [
        "#Перцептрон"
      ]
    },
    {
      "cell_type": "code",
      "metadata": {
        "id": "gr5USwDauzXv"
      },
      "source": [
        "from matplotlib import pyplot as plt\n",
        "from matplotlib.colors import ListedColormap\n",
        "import numpy as np\n",
        "import pandas as pd"
      ],
      "execution_count": 1,
      "outputs": []
    },
    {
      "cell_type": "code",
      "metadata": {
        "id": "Xs56AM80u0Kq"
      },
      "source": [
        "def Loss(y_pred, y):\n",
        "    '''\n",
        "    MSE\n",
        "    '''\n",
        "    y_pred = y_pred.reshape(-1,1)\n",
        "    y = np.array(y).reshape(-1,1)\n",
        "    return 0.5 * np.mean((y_pred - y) ** 2)"
      ],
      "execution_count": 2,
      "outputs": []
    },
    {
      "cell_type": "code",
      "metadata": {
        "id": "wWxiBTSqwIUh"
      },
      "source": [
        "def logloss(y_true, y_pred, eps=1e-15):\n",
        "\n",
        "    return - (y_true * np.log(y_pred) + (1 - y_true) * np.log(1 - y_pred))"
      ],
      "execution_count": 3,
      "outputs": []
    },
    {
      "cell_type": "code",
      "metadata": {
        "id": "jnu2l4Htu7uv"
      },
      "source": [
        "class Perceptron:\n",
        "    def __init__(self, w=None, b=0):\n",
        "        \"\"\"\n",
        "        :param: w -- вектор вагів\n",
        "        :param: b -- зсув\n",
        "        \"\"\"\n",
        "        self.w = w\n",
        "        self.b = b\n",
        "        \n",
        "    def activate(self, x):\n",
        "        return np.array(x > 0, dtype=np.int64)\n",
        "        \n",
        "    def forward_pass(self, X):\n",
        "        \"\"\"\n",
        "        Фукція обчислює відповідь персептрона\n",
        "        :param: X -- матриця обєектів розміру (n, m)\n",
        "        :return: вектор розміру (n, 1)б значення - 0 або 1\n",
        "        \"\"\"\n",
        "        n = X.shape[0]\n",
        "        y_pred = np.zeros((n, 1))  # y_pred == y_predicted \n",
        "        y_pred = self.activate(X @ self.w.reshape(X.shape[1], 1) + self.b)\n",
        "        return y_pred.reshape(-1, 1)\n",
        "    \n",
        "    def backward_pass(self, X, y, y_pred, learning_rate=0.005):\n",
        "        \"\"\"\n",
        "        Оновлює значення вагів \n",
        "        :param: X -- матриця розміру (n, m)\n",
        "                y -- вектор розмітки (n, 1) -  цільова змінна\n",
        "                learning_rate - швидкість нвчання\n",
        "        \"\"\"\n",
        "        n = len(y)\n",
        "        y = np.array(y).reshape(-1, 1)\n",
        "        self.w = self.w - learning_rate * (X.T @ (y_pred - y) / n)\n",
        "        self.b = self.b - learning_rate * np.mean(y_pred - y)\n",
        "    \n",
        "    def fit(self, X, y, num_epochs=300):\n",
        "        \"\"\"\n",
        "        зворотній прохід\n",
        "        :param: X -- матрица объектов размера (n, m)\n",
        "                y -- вектор правильных ответов размера (n, 1)\n",
        "                num_epochs -- количество итераций обучения\n",
        "        :return: losses -- вектор значений функции потерь\n",
        "        \"\"\"\n",
        "        self.w = np.zeros((X.shape[1], 1))  # стовбчик (m, 1)\n",
        "        self.b = 0  # зсув\n",
        "        losses = []  # значення функції помилок на кожному кроці оновлення вагів\n",
        "        \n",
        "        for i in range(num_epochs):\n",
        "            y_pred = self.forward_pass(X)\n",
        "            losses.append(logloss(y_pred, y))\n",
        "            self.backward_pass(X, y, y_pred)\n",
        "\n",
        "        return losses"
      ],
      "execution_count": 4,
      "outputs": []
    },
    {
      "cell_type": "code",
      "metadata": {
        "colab": {
          "base_uri": "https://localhost:8080/"
        },
        "id": "47H64wFSu-Bq",
        "outputId": "074a7476-e886-4f28-e759-88cbed5a42fe"
      },
      "source": [
        "w = np.array([1., 2.]).reshape(2, 1)\n",
        "w"
      ],
      "execution_count": 5,
      "outputs": [
        {
          "output_type": "execute_result",
          "data": {
            "text/plain": [
              "array([[1.],\n",
              "       [2.]])"
            ]
          },
          "metadata": {
            "tags": []
          },
          "execution_count": 5
        }
      ]
    },
    {
      "cell_type": "code",
      "metadata": {
        "id": "1kjOPZHWvAUI"
      },
      "source": [
        "b = 2.\n",
        "X = np.array([[1., 2., -1.], [3., 4., -3.2]])"
      ],
      "execution_count": 6,
      "outputs": []
    },
    {
      "cell_type": "code",
      "metadata": {
        "colab": {
          "base_uri": "https://localhost:8080/"
        },
        "id": "7HFxpjYsvCbS",
        "outputId": "eac73e71-9c92-4780-8563-7a80cfa369b1"
      },
      "source": [
        "perceptron = Perceptron(w, b)\n",
        "y_pred = perceptron.forward_pass(X.T)\n",
        "print (\"y_pred = \" + str(y_pred))"
      ],
      "execution_count": 7,
      "outputs": [
        {
          "output_type": "stream",
          "text": [
            "y_pred = [[1]\n",
            " [1]\n",
            " [0]]\n"
          ],
          "name": "stdout"
        }
      ]
    },
    {
      "cell_type": "code",
      "metadata": {
        "colab": {
          "base_uri": "https://localhost:8080/"
        },
        "id": "GYkHuTDavELd",
        "outputId": "6d343d70-cb4d-4f3d-b544-09215224e9b3"
      },
      "source": [
        "\n",
        "y = np.array([1, 0, 1]).reshape(3, 1)\n",
        "y"
      ],
      "execution_count": 8,
      "outputs": [
        {
          "output_type": "execute_result",
          "data": {
            "text/plain": [
              "array([[1],\n",
              "       [0],\n",
              "       [1]])"
            ]
          },
          "metadata": {
            "tags": []
          },
          "execution_count": 8
        }
      ]
    },
    {
      "cell_type": "code",
      "metadata": {
        "colab": {
          "base_uri": "https://localhost:8080/"
        },
        "id": "4fuSxpEuvGuw",
        "outputId": "60b62677-d9ab-42ec-f87e-2ef3eec32dd8"
      },
      "source": [
        "perceptron.backward_pass(X.T, y, y_pred)\n",
        "\n",
        "print (\"w = \" + str(perceptron.w))\n",
        "print (\"b = \" + str(perceptron.b))"
      ],
      "execution_count": 9,
      "outputs": [
        {
          "output_type": "stream",
          "text": [
            "w = [[0.995]\n",
            " [1.988]]\n",
            "b = 2.0\n"
          ],
          "name": "stdout"
        }
      ]
    },
    {
      "cell_type": "code",
      "metadata": {
        "id": "QxNUgXIWvJi-"
      },
      "source": [
        "data = pd.read_csv(\"https://raw.githubusercontent.com/Nataliia5722/AI/main/HW2/voice.csv\")\n",
        "data['label'] = data['label'].apply(lambda x: 1 if x == 'male' else 0)"
      ],
      "execution_count": 10,
      "outputs": []
    },
    {
      "cell_type": "code",
      "metadata": {
        "colab": {
          "base_uri": "https://localhost:8080/",
          "height": 0
        },
        "id": "P0cmVXcQvMGE",
        "outputId": "897c2e40-65bb-4b31-e166-4c394c23b3ca"
      },
      "source": [
        "data.head()"
      ],
      "execution_count": 11,
      "outputs": [
        {
          "output_type": "execute_result",
          "data": {
            "text/html": [
              "<div>\n",
              "<style scoped>\n",
              "    .dataframe tbody tr th:only-of-type {\n",
              "        vertical-align: middle;\n",
              "    }\n",
              "\n",
              "    .dataframe tbody tr th {\n",
              "        vertical-align: top;\n",
              "    }\n",
              "\n",
              "    .dataframe thead th {\n",
              "        text-align: right;\n",
              "    }\n",
              "</style>\n",
              "<table border=\"1\" class=\"dataframe\">\n",
              "  <thead>\n",
              "    <tr style=\"text-align: right;\">\n",
              "      <th></th>\n",
              "      <th>meanfreq</th>\n",
              "      <th>sd</th>\n",
              "      <th>median</th>\n",
              "      <th>Q25</th>\n",
              "      <th>Q75</th>\n",
              "      <th>IQR</th>\n",
              "      <th>skew</th>\n",
              "      <th>kurt</th>\n",
              "      <th>sp.ent</th>\n",
              "      <th>sfm</th>\n",
              "      <th>mode</th>\n",
              "      <th>centroid</th>\n",
              "      <th>meanfun</th>\n",
              "      <th>minfun</th>\n",
              "      <th>maxfun</th>\n",
              "      <th>meandom</th>\n",
              "      <th>mindom</th>\n",
              "      <th>maxdom</th>\n",
              "      <th>dfrange</th>\n",
              "      <th>modindx</th>\n",
              "      <th>label</th>\n",
              "    </tr>\n",
              "  </thead>\n",
              "  <tbody>\n",
              "    <tr>\n",
              "      <th>0</th>\n",
              "      <td>0.059781</td>\n",
              "      <td>0.064241</td>\n",
              "      <td>0.032027</td>\n",
              "      <td>0.015071</td>\n",
              "      <td>0.090193</td>\n",
              "      <td>0.075122</td>\n",
              "      <td>12.863462</td>\n",
              "      <td>274.402906</td>\n",
              "      <td>0.893369</td>\n",
              "      <td>0.491918</td>\n",
              "      <td>0.000000</td>\n",
              "      <td>0.059781</td>\n",
              "      <td>0.084279</td>\n",
              "      <td>0.015702</td>\n",
              "      <td>0.275862</td>\n",
              "      <td>0.007812</td>\n",
              "      <td>0.007812</td>\n",
              "      <td>0.007812</td>\n",
              "      <td>0.000000</td>\n",
              "      <td>0.000000</td>\n",
              "      <td>1</td>\n",
              "    </tr>\n",
              "    <tr>\n",
              "      <th>1</th>\n",
              "      <td>0.066009</td>\n",
              "      <td>0.067310</td>\n",
              "      <td>0.040229</td>\n",
              "      <td>0.019414</td>\n",
              "      <td>0.092666</td>\n",
              "      <td>0.073252</td>\n",
              "      <td>22.423285</td>\n",
              "      <td>634.613855</td>\n",
              "      <td>0.892193</td>\n",
              "      <td>0.513724</td>\n",
              "      <td>0.000000</td>\n",
              "      <td>0.066009</td>\n",
              "      <td>0.107937</td>\n",
              "      <td>0.015826</td>\n",
              "      <td>0.250000</td>\n",
              "      <td>0.009014</td>\n",
              "      <td>0.007812</td>\n",
              "      <td>0.054688</td>\n",
              "      <td>0.046875</td>\n",
              "      <td>0.052632</td>\n",
              "      <td>1</td>\n",
              "    </tr>\n",
              "    <tr>\n",
              "      <th>2</th>\n",
              "      <td>0.077316</td>\n",
              "      <td>0.083829</td>\n",
              "      <td>0.036718</td>\n",
              "      <td>0.008701</td>\n",
              "      <td>0.131908</td>\n",
              "      <td>0.123207</td>\n",
              "      <td>30.757155</td>\n",
              "      <td>1024.927705</td>\n",
              "      <td>0.846389</td>\n",
              "      <td>0.478905</td>\n",
              "      <td>0.000000</td>\n",
              "      <td>0.077316</td>\n",
              "      <td>0.098706</td>\n",
              "      <td>0.015656</td>\n",
              "      <td>0.271186</td>\n",
              "      <td>0.007990</td>\n",
              "      <td>0.007812</td>\n",
              "      <td>0.015625</td>\n",
              "      <td>0.007812</td>\n",
              "      <td>0.046512</td>\n",
              "      <td>1</td>\n",
              "    </tr>\n",
              "    <tr>\n",
              "      <th>3</th>\n",
              "      <td>0.151228</td>\n",
              "      <td>0.072111</td>\n",
              "      <td>0.158011</td>\n",
              "      <td>0.096582</td>\n",
              "      <td>0.207955</td>\n",
              "      <td>0.111374</td>\n",
              "      <td>1.232831</td>\n",
              "      <td>4.177296</td>\n",
              "      <td>0.963322</td>\n",
              "      <td>0.727232</td>\n",
              "      <td>0.083878</td>\n",
              "      <td>0.151228</td>\n",
              "      <td>0.088965</td>\n",
              "      <td>0.017798</td>\n",
              "      <td>0.250000</td>\n",
              "      <td>0.201497</td>\n",
              "      <td>0.007812</td>\n",
              "      <td>0.562500</td>\n",
              "      <td>0.554688</td>\n",
              "      <td>0.247119</td>\n",
              "      <td>1</td>\n",
              "    </tr>\n",
              "    <tr>\n",
              "      <th>4</th>\n",
              "      <td>0.135120</td>\n",
              "      <td>0.079146</td>\n",
              "      <td>0.124656</td>\n",
              "      <td>0.078720</td>\n",
              "      <td>0.206045</td>\n",
              "      <td>0.127325</td>\n",
              "      <td>1.101174</td>\n",
              "      <td>4.333713</td>\n",
              "      <td>0.971955</td>\n",
              "      <td>0.783568</td>\n",
              "      <td>0.104261</td>\n",
              "      <td>0.135120</td>\n",
              "      <td>0.106398</td>\n",
              "      <td>0.016931</td>\n",
              "      <td>0.266667</td>\n",
              "      <td>0.712812</td>\n",
              "      <td>0.007812</td>\n",
              "      <td>5.484375</td>\n",
              "      <td>5.476562</td>\n",
              "      <td>0.208274</td>\n",
              "      <td>1</td>\n",
              "    </tr>\n",
              "  </tbody>\n",
              "</table>\n",
              "</div>"
            ],
            "text/plain": [
              "   meanfreq        sd    median       Q25  ...    maxdom   dfrange   modindx  label\n",
              "0  0.059781  0.064241  0.032027  0.015071  ...  0.007812  0.000000  0.000000      1\n",
              "1  0.066009  0.067310  0.040229  0.019414  ...  0.054688  0.046875  0.052632      1\n",
              "2  0.077316  0.083829  0.036718  0.008701  ...  0.015625  0.007812  0.046512      1\n",
              "3  0.151228  0.072111  0.158011  0.096582  ...  0.562500  0.554688  0.247119      1\n",
              "4  0.135120  0.079146  0.124656  0.078720  ...  5.484375  5.476562  0.208274      1\n",
              "\n",
              "[5 rows x 21 columns]"
            ]
          },
          "metadata": {
            "tags": []
          },
          "execution_count": 11
        }
      ]
    },
    {
      "cell_type": "code",
      "metadata": {
        "colab": {
          "base_uri": "https://localhost:8080/",
          "height": 0
        },
        "id": "2wl7243ovNsE",
        "outputId": "1253cd0e-5115-43db-f521-29259584c153"
      },
      "source": [
        "\n",
        "# Перемішаємо дані\n",
        "data = data.sample(frac=1)\n",
        "data.head()"
      ],
      "execution_count": 12,
      "outputs": [
        {
          "output_type": "execute_result",
          "data": {
            "text/html": [
              "<div>\n",
              "<style scoped>\n",
              "    .dataframe tbody tr th:only-of-type {\n",
              "        vertical-align: middle;\n",
              "    }\n",
              "\n",
              "    .dataframe tbody tr th {\n",
              "        vertical-align: top;\n",
              "    }\n",
              "\n",
              "    .dataframe thead th {\n",
              "        text-align: right;\n",
              "    }\n",
              "</style>\n",
              "<table border=\"1\" class=\"dataframe\">\n",
              "  <thead>\n",
              "    <tr style=\"text-align: right;\">\n",
              "      <th></th>\n",
              "      <th>meanfreq</th>\n",
              "      <th>sd</th>\n",
              "      <th>median</th>\n",
              "      <th>Q25</th>\n",
              "      <th>Q75</th>\n",
              "      <th>IQR</th>\n",
              "      <th>skew</th>\n",
              "      <th>kurt</th>\n",
              "      <th>sp.ent</th>\n",
              "      <th>sfm</th>\n",
              "      <th>mode</th>\n",
              "      <th>centroid</th>\n",
              "      <th>meanfun</th>\n",
              "      <th>minfun</th>\n",
              "      <th>maxfun</th>\n",
              "      <th>meandom</th>\n",
              "      <th>mindom</th>\n",
              "      <th>maxdom</th>\n",
              "      <th>dfrange</th>\n",
              "      <th>modindx</th>\n",
              "      <th>label</th>\n",
              "    </tr>\n",
              "  </thead>\n",
              "  <tbody>\n",
              "    <tr>\n",
              "      <th>1457</th>\n",
              "      <td>0.183640</td>\n",
              "      <td>0.063812</td>\n",
              "      <td>0.182169</td>\n",
              "      <td>0.140000</td>\n",
              "      <td>0.245703</td>\n",
              "      <td>0.105703</td>\n",
              "      <td>2.147421</td>\n",
              "      <td>8.244921</td>\n",
              "      <td>0.900356</td>\n",
              "      <td>0.382137</td>\n",
              "      <td>0.182169</td>\n",
              "      <td>0.183640</td>\n",
              "      <td>0.107362</td>\n",
              "      <td>0.047198</td>\n",
              "      <td>0.277457</td>\n",
              "      <td>0.765203</td>\n",
              "      <td>0.023438</td>\n",
              "      <td>5.132812</td>\n",
              "      <td>5.109375</td>\n",
              "      <td>0.113195</td>\n",
              "      <td>1</td>\n",
              "    </tr>\n",
              "    <tr>\n",
              "      <th>2838</th>\n",
              "      <td>0.229718</td>\n",
              "      <td>0.038380</td>\n",
              "      <td>0.232536</td>\n",
              "      <td>0.224957</td>\n",
              "      <td>0.248091</td>\n",
              "      <td>0.023134</td>\n",
              "      <td>3.491905</td>\n",
              "      <td>18.090600</td>\n",
              "      <td>0.812433</td>\n",
              "      <td>0.206364</td>\n",
              "      <td>0.227350</td>\n",
              "      <td>0.229718</td>\n",
              "      <td>0.193904</td>\n",
              "      <td>0.048632</td>\n",
              "      <td>0.277457</td>\n",
              "      <td>1.633371</td>\n",
              "      <td>0.023438</td>\n",
              "      <td>11.250000</td>\n",
              "      <td>11.226562</td>\n",
              "      <td>0.136205</td>\n",
              "      <td>0</td>\n",
              "    </tr>\n",
              "    <tr>\n",
              "      <th>3145</th>\n",
              "      <td>0.082404</td>\n",
              "      <td>0.085136</td>\n",
              "      <td>0.035114</td>\n",
              "      <td>0.016920</td>\n",
              "      <td>0.152827</td>\n",
              "      <td>0.135906</td>\n",
              "      <td>2.570944</td>\n",
              "      <td>9.179264</td>\n",
              "      <td>0.921649</td>\n",
              "      <td>0.576089</td>\n",
              "      <td>0.014555</td>\n",
              "      <td>0.082404</td>\n",
              "      <td>0.183387</td>\n",
              "      <td>0.034043</td>\n",
              "      <td>0.275862</td>\n",
              "      <td>0.328962</td>\n",
              "      <td>0.007812</td>\n",
              "      <td>0.750000</td>\n",
              "      <td>0.742188</td>\n",
              "      <td>0.445053</td>\n",
              "      <td>0</td>\n",
              "    </tr>\n",
              "    <tr>\n",
              "      <th>361</th>\n",
              "      <td>0.155535</td>\n",
              "      <td>0.073815</td>\n",
              "      <td>0.156011</td>\n",
              "      <td>0.101463</td>\n",
              "      <td>0.214654</td>\n",
              "      <td>0.113191</td>\n",
              "      <td>1.920196</td>\n",
              "      <td>7.828552</td>\n",
              "      <td>0.964332</td>\n",
              "      <td>0.753936</td>\n",
              "      <td>0.201064</td>\n",
              "      <td>0.155535</td>\n",
              "      <td>0.118678</td>\n",
              "      <td>0.045070</td>\n",
              "      <td>0.238806</td>\n",
              "      <td>0.398763</td>\n",
              "      <td>0.007812</td>\n",
              "      <td>1.171875</td>\n",
              "      <td>1.164062</td>\n",
              "      <td>0.221477</td>\n",
              "      <td>1</td>\n",
              "    </tr>\n",
              "    <tr>\n",
              "      <th>1194</th>\n",
              "      <td>0.198730</td>\n",
              "      <td>0.061862</td>\n",
              "      <td>0.184700</td>\n",
              "      <td>0.137504</td>\n",
              "      <td>0.262301</td>\n",
              "      <td>0.124797</td>\n",
              "      <td>1.830105</td>\n",
              "      <td>5.685813</td>\n",
              "      <td>0.870138</td>\n",
              "      <td>0.271367</td>\n",
              "      <td>0.136143</td>\n",
              "      <td>0.198730</td>\n",
              "      <td>0.126260</td>\n",
              "      <td>0.047761</td>\n",
              "      <td>0.279070</td>\n",
              "      <td>0.854167</td>\n",
              "      <td>0.023438</td>\n",
              "      <td>8.953125</td>\n",
              "      <td>8.929688</td>\n",
              "      <td>0.081990</td>\n",
              "      <td>1</td>\n",
              "    </tr>\n",
              "  </tbody>\n",
              "</table>\n",
              "</div>"
            ],
            "text/plain": [
              "      meanfreq        sd    median  ...    dfrange   modindx  label\n",
              "1457  0.183640  0.063812  0.182169  ...   5.109375  0.113195      1\n",
              "2838  0.229718  0.038380  0.232536  ...  11.226562  0.136205      0\n",
              "3145  0.082404  0.085136  0.035114  ...   0.742188  0.445053      0\n",
              "361   0.155535  0.073815  0.156011  ...   1.164062  0.221477      1\n",
              "1194  0.198730  0.061862  0.184700  ...   8.929688  0.081990      1\n",
              "\n",
              "[5 rows x 21 columns]"
            ]
          },
          "metadata": {
            "tags": []
          },
          "execution_count": 12
        }
      ]
    },
    {
      "cell_type": "code",
      "metadata": {
        "id": "amIHpjicvPlg"
      },
      "source": [
        "X_train = data.iloc[:int(len(data)*0.7), :-1]  # матрица ознак\n",
        "y_train = data.iloc[:int(len(data)*0.7), -1]  # значення полу (чоловік/жінка)\n",
        "\n",
        "X_test = data.iloc[int(len(data)*0.7):, :-1]  # матрица ознак\n",
        "y_test = data.iloc[int(len(data)*0.7):, -1]  # значення полу (чоловік/жінка)"
      ],
      "execution_count": 13,
      "outputs": []
    },
    {
      "cell_type": "code",
      "metadata": {
        "colab": {
          "base_uri": "https://localhost:8080/"
        },
        "id": "GmqdZOCDvRNV",
        "outputId": "fed20043-daae-44ae-b90b-b87fb3803279"
      },
      "source": [
        "perceptron = Perceptron()\n",
        "losses=perceptron.fit(X_train.values, y_train.values)"
      ],
      "execution_count": 14,
      "outputs": [
        {
          "output_type": "stream",
          "text": [
            "/usr/local/lib/python3.7/dist-packages/ipykernel_launcher.py:3: RuntimeWarning: divide by zero encountered in log\n",
            "  This is separate from the ipykernel package so we can avoid doing imports until\n",
            "/usr/local/lib/python3.7/dist-packages/ipykernel_launcher.py:3: RuntimeWarning: invalid value encountered in multiply\n",
            "  This is separate from the ipykernel package so we can avoid doing imports until\n"
          ],
          "name": "stderr"
        }
      ]
    },
    {
      "cell_type": "code",
      "metadata": {
        "id": "LY6bl5KqvS7L"
      },
      "source": [
        "plt.figure(figsize=(10, 8))\n",
        "plt.plot(losses)\n",
        "plt.title('Функція втрат', fontsize=15)\n",
        "plt.xlabel('номер ітерації', fontsize=14)\n",
        "plt.ylabel('$Loss(\\hat{y}, y)$', fontsize=14)\n",
        "plt.show()"
      ],
      "execution_count": null,
      "outputs": []
    },
    {
      "cell_type": "code",
      "metadata": {
        "id": "2rsNkPvHvUsp"
      },
      "source": [
        "from sklearn.metrics import accuracy_score"
      ],
      "execution_count": null,
      "outputs": []
    },
    {
      "cell_type": "code",
      "metadata": {
        "id": "cVJmQKXUvXsb"
      },
      "source": [
        "print('Точність нашего перцептрону: {:.3f} %'.format(\n",
        "    accuracy_score(y_test.values, perceptron.forward_pass(X_test)) * 100))"
      ],
      "execution_count": null,
      "outputs": []
    },
    {
      "cell_type": "code",
      "metadata": {
        "id": "cdbNFlVsvZS9"
      },
      "source": [
        "from sklearn.linear_model import Perceptron as skPerceptron"
      ],
      "execution_count": null,
      "outputs": []
    },
    {
      "cell_type": "code",
      "metadata": {
        "id": "IRAUf-cAvd-t"
      },
      "source": [
        "\n",
        "RANDOM_SEED = 42\n",
        "\n",
        "sk_perceptron = skPerceptron(random_state=RANDOM_SEED)\n",
        "sk_perceptron.fit(X_train.values, y_train.values)"
      ],
      "execution_count": null,
      "outputs": []
    },
    {
      "cell_type": "code",
      "metadata": {
        "id": "T8R4w-47vfrx"
      },
      "source": [
        "print('Точність перцептрону з sklearn: {:.3f} %'.format(\n",
        "    accuracy_score(y_test.values, sk_perceptron.predict(X_test)) * 100))"
      ],
      "execution_count": null,
      "outputs": []
    },
    {
      "cell_type": "code",
      "metadata": {
        "id": "wt8gFtmevhZC"
      },
      "source": [
        "\n",
        "perceptron = Perceptron()\n",
        "losses=perceptron.fit(X_train.values, y_train.values, num_epochs=5000)\n",
        "\n",
        "plt.figure(figsize=(10, 8))\n",
        "plt.plot(losses)\n",
        "plt.title('Функція втрат', fontsize=15)\n",
        "plt.xlabel('номер ітерації', fontsize=14)\n",
        "plt.ylabel('$Logloss(\\hat{y}, y)$', fontsize=14)\n",
        "plt.show()"
      ],
      "execution_count": null,
      "outputs": []
    },
    {
      "cell_type": "code",
      "metadata": {
        "id": "BllpVRrGvjF5"
      },
      "source": [
        "print('Точність нашего перцептрону: {:.3f} %'.format(\n",
        "    accuracy_score(y_test.values, perceptron.forward_pass(X_test)) * 100))"
      ],
      "execution_count": null,
      "outputs": []
    },
    {
      "cell_type": "code",
      "metadata": {
        "id": "IJ6ykQIrvk4E"
      },
      "source": [
        "sk_perceptron = skPerceptron(random_state=RANDOM_SEED, max_iter=5000)\n",
        "sk_perceptron.fit(X_train.values, y_train.values, )"
      ],
      "execution_count": null,
      "outputs": []
    },
    {
      "cell_type": "code",
      "metadata": {
        "id": "M6suYpvSvmuh"
      },
      "source": [
        "\n",
        "print('Точність перцептрону з sklearn: {:.3f} %'.format(\n",
        "    accuracy_score(y_test.values, sk_perceptron.predict(X_test)) * 100))"
      ],
      "execution_count": null,
      "outputs": []
    },
    {
      "cell_type": "markdown",
      "metadata": {
        "id": "Fz6H3mKhvqVS"
      },
      "source": [
        "###Застосуємо нормалізацію"
      ]
    },
    {
      "cell_type": "code",
      "metadata": {
        "id": "t6czw2KgvrtB"
      },
      "source": [
        "from sklearn.preprocessing import MinMaxScaler"
      ],
      "execution_count": null,
      "outputs": []
    },
    {
      "cell_type": "code",
      "metadata": {
        "id": "Oue4DZ1cvtfJ"
      },
      "source": [
        "scaler=MinMaxScaler()"
      ],
      "execution_count": null,
      "outputs": []
    },
    {
      "cell_type": "code",
      "metadata": {
        "id": "9s4OvOywvuto"
      },
      "source": [
        "train=scaler.fit_transform(X_train)"
      ],
      "execution_count": null,
      "outputs": []
    },
    {
      "cell_type": "code",
      "metadata": {
        "id": "COwnDDqevwcZ"
      },
      "source": [
        "test = scaler.transform(X_test)"
      ],
      "execution_count": null,
      "outputs": []
    },
    {
      "cell_type": "code",
      "metadata": {
        "id": "cQj3VzrdvyE9"
      },
      "source": [
        "\n",
        "perceptron = Perceptron()\n",
        "losses=perceptron.fit(train, y_train.values, num_epochs=5000)\n",
        "\n",
        "plt.figure(figsize=(10, 8))\n",
        "plt.plot(losses)\n",
        "plt.title('Функція втрат', fontsize=15)\n",
        "plt.xlabel('номер ітерації', fontsize=14)\n",
        "plt.ylabel('$Logloss(\\hat{y}, y)$', fontsize=14)\n",
        "plt.show()"
      ],
      "execution_count": null,
      "outputs": []
    },
    {
      "cell_type": "code",
      "metadata": {
        "id": "ek4gdDhfv1Kk"
      },
      "source": [
        "\n",
        "print('Точність нашего перцептрону: {:.3f} %'.format(\n",
        "    accuracy_score(y_test.values, perceptron.forward_pass(test)) * 100))"
      ],
      "execution_count": null,
      "outputs": []
    },
    {
      "cell_type": "code",
      "metadata": {
        "id": "pXWdRvlEv3JT"
      },
      "source": [
        "sk_perceptron = skPerceptron(random_state=RANDOM_SEED, max_iter=5000)\n",
        "sk_perceptron.fit(train, y_train.values, )"
      ],
      "execution_count": null,
      "outputs": []
    },
    {
      "cell_type": "code",
      "metadata": {
        "id": "gN6pkNifv4iM"
      },
      "source": [
        "\n",
        "print('Точність перцептрону з sklearn: {:.3f} %'.format(\n",
        "    accuracy_score(y_test.values, sk_perceptron.predict(test)) * 100))"
      ],
      "execution_count": null,
      "outputs": []
    },
    {
      "cell_type": "markdown",
      "metadata": {
        "id": "OOebnv3OuqEQ"
      },
      "source": [
        "\n",
        "####Домашнє завдання №2\n",
        "Замість loss-функції втрат написати та застосувати log-loss функцію втрат\n",
        "\n",
        "Написати модель перцептрону користуючись функцією активації sigmoid. Порівняти результати\n",
        "\n",
        "Протестуте інші функції активації\n",
        "\n"
      ]
    }
  ]
}