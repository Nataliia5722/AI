{
 "cells": [
  {
   "cell_type": "code",
   "execution_count": 1,
   "metadata": {},
   "outputs": [],
   "source": [
    "from matplotlib import pyplot as plt\n",
    "from matplotlib.colors import ListedColormap\n",
    "import numpy as np\n",
    "import pandas as pd"
   ]
  },
  {
   "cell_type": "code",
   "execution_count": 2,
   "metadata": {},
   "outputs": [],
   "source": [
    "def Loss(y_pred, y):\n",
    "    '''\n",
    "    MSE\n",
    "    '''\n",
    "    y_pred = y_pred.reshape(-1,1)\n",
    "    y = np.array(y).reshape(-1,1)\n",
    "    return 0.5 * np.mean((y_pred - y) ** 2)"
   ]
  },
  {
   "cell_type": "markdown",
   "metadata": {},
   "source": [
    "У якості функції активації візьмемо порогову функцію:\n",
    "$$ f(y)=\\Bigg\\{ \\begin{matrix}\n",
    "-  1, \\; if \\; y>0, \\\\\n",
    "0, \\; if\\;  y=<0  \\end{matrix}\n",
    "$$\n",
    "\n",
    "![loss.png](loss.png)\n",
    "\n",
    "![grad.png](grad.png)"
   ]
  },
  {
   "cell_type": "code",
   "execution_count": 3,
   "metadata": {},
   "outputs": [],
   "source": [
    "class Perceptron:\n",
    "    def __init__(self, w=None, b=0):\n",
    "        \"\"\"\n",
    "        :param: w -- вектор вагів\n",
    "        :param: b -- зсув\n",
    "        \"\"\"\n",
    "        self.w = w\n",
    "        self.b = b\n",
    "        \n",
    "    def activate(self, x):\n",
    "        return np.array(x > 0, dtype=np.int64)\n",
    "        \n",
    "    def forward_pass(self, X):\n",
    "        \"\"\"\n",
    "        Фукція обчислює відповідь персептрона\n",
    "        :param: X -- матриця обєектів розміру (n, m)\n",
    "        :return: вектор розміру (n, 1)б значення - 0 або 1\n",
    "        \"\"\"\n",
    "        n = X.shape[0]\n",
    "        y_pred = np.zeros((n, 1))  # y_pred == y_predicted \n",
    "        y_pred = self.activate(X @ self.w.reshape(X.shape[1], 1) + self.b)\n",
    "        return y_pred.reshape(-1, 1)\n",
    "    \n",
    "    def backward_pass(self, X, y, y_pred, learning_rate=0.005):\n",
    "        \"\"\"\n",
    "        Оновлює значення вагів \n",
    "        :param: X -- матриця розміру (n, m)\n",
    "                y -- вектор розмітки (n, 1) -  цільова змінна\n",
    "                learning_rate - швидкість нвчання\n",
    "        \"\"\"\n",
    "        n = len(y)\n",
    "        y = np.array(y).reshape(-1, 1)\n",
    "        self.w = self.w - learning_rate * (X.T @ (y_pred - y) / n)\n",
    "        self.b = self.b - learning_rate * np.mean(y_pred - y)\n",
    "    \n",
    "    def fit(self, X, y, num_epochs=300):\n",
    "        \"\"\"\n",
    "        зворотній прохід\n",
    "        :param: X -- матрица объектов размера (n, m)\n",
    "                y -- вектор правильных ответов размера (n, 1)\n",
    "                num_epochs -- количество итераций обучения\n",
    "        :return: losses -- вектор значений функции потерь\n",
    "        \"\"\"\n",
    "        self.w = np.zeros((X.shape[1], 1))  # стовбчик (m, 1)\n",
    "        self.b = 0  # зсув\n",
    "        losses = []  # значення функції помилок на кожному кроці оновлення вагів\n",
    "        \n",
    "        for i in range(num_epochs):\n",
    "            y_pred = self.forward_pass(X)\n",
    "            losses.append(Loss(y_pred, y))\n",
    "            self.backward_pass(X, y, y_pred)\n",
    "\n",
    "        return losses"
   ]
  },
  {
   "cell_type": "markdown",
   "metadata": {},
   "source": [
    "Перевіремо `forward_pass()`"
   ]
  },
  {
   "cell_type": "code",
   "execution_count": 4,
   "metadata": {},
   "outputs": [
    {
     "data": {
      "text/plain": [
       "array([[1.],\n",
       "       [2.]])"
      ]
     },
     "execution_count": 4,
     "metadata": {},
     "output_type": "execute_result"
    }
   ],
   "source": [
    "w = np.array([1., 2.]).reshape(2, 1)\n",
    "w"
   ]
  },
  {
   "cell_type": "code",
   "execution_count": 5,
   "metadata": {},
   "outputs": [],
   "source": [
    "b = 2.\n",
    "X = np.array([[1., 2., -1.], [3., 4., -3.2]])"
   ]
  },
  {
   "cell_type": "code",
   "execution_count": 6,
   "metadata": {},
   "outputs": [
    {
     "name": "stdout",
     "output_type": "stream",
     "text": [
      "y_pred = [[1]\n",
      " [1]\n",
      " [0]]\n"
     ]
    }
   ],
   "source": [
    "perceptron = Perceptron(w, b)\n",
    "y_pred = perceptron.forward_pass(X.T)\n",
    "print (\"y_pred = \" + str(y_pred))"
   ]
  },
  {
   "cell_type": "markdown",
   "metadata": {},
   "source": [
    "Перевіремо  `backward_pass()`:"
   ]
  },
  {
   "cell_type": "code",
   "execution_count": 7,
   "metadata": {},
   "outputs": [
    {
     "data": {
      "text/plain": [
       "array([[1],\n",
       "       [0],\n",
       "       [1]])"
      ]
     },
     "execution_count": 7,
     "metadata": {},
     "output_type": "execute_result"
    }
   ],
   "source": [
    "y = np.array([1, 0, 1]).reshape(3, 1)\n",
    "y"
   ]
  },
  {
   "cell_type": "code",
   "execution_count": 8,
   "metadata": {},
   "outputs": [
    {
     "name": "stdout",
     "output_type": "stream",
     "text": [
      "w = [[0.995]\n",
      " [1.988]]\n",
      "b = 2.0\n"
     ]
    }
   ],
   "source": [
    "perceptron.backward_pass(X.T, y, y_pred)\n",
    "\n",
    "print (\"w = \" + str(perceptron.w))\n",
    "print (\"b = \" + str(perceptron.b))"
   ]
  },
  {
   "cell_type": "markdown",
   "metadata": {},
   "source": [
    "### Example\n",
    "\n",
    "https://www.kaggle.com/primaryobjects/voicegender"
   ]
  },
  {
   "cell_type": "markdown",
   "metadata": {},
   "source": [
    "### Voice Gender\n",
    "\n",
    "Gender Recognition by Voice and Speech Analysis\n",
    "\n",
    "This database was created to identify a voice as male or female, based upon acoustic properties of the voice and speech. The dataset consists of 3,168 recorded voice samples, collected from male and female speakers. The voice samples are pre-processed by acoustic analysis in R using the seewave and tuneR packages, with an analyzed frequency range of 0hz-280hz (human vocal range).\n",
    "\n",
    "The Dataset\n",
    "The following acoustic properties of each voice are measured and included within the CSV:\n",
    "\n",
    "- meanfreq: mean frequency (in kHz)\n",
    "- sd: standard deviation of frequency\n",
    "- median: median frequency (in kHz)\n",
    "- Q25: first quantile (in kHz)\n",
    "- Q75: third quantile (in kHz)\n",
    "IQR: interquantile range (in kHz)\n",
    "- skew: skewness (see note in specprop description)\n",
    "- kurt: kurtosis (see note in specprop description)\n",
    "- sp.ent: spectral entropy\n",
    "...\n",
    "\n",
    "- label: male or female\n"
   ]
  },
  {
   "cell_type": "code",
   "execution_count": 9,
   "metadata": {},
   "outputs": [],
   "source": [
    "data = pd.read_csv(\"voice.csv\")\n",
    "data['label'] = data['label'].apply(lambda x: 1 if x == 'male' else 0)"
   ]
  },
  {
   "cell_type": "code",
   "execution_count": 10,
   "metadata": {},
   "outputs": [
    {
     "data": {
      "text/html": [
       "<div>\n",
       "<style scoped>\n",
       "    .dataframe tbody tr th:only-of-type {\n",
       "        vertical-align: middle;\n",
       "    }\n",
       "\n",
       "    .dataframe tbody tr th {\n",
       "        vertical-align: top;\n",
       "    }\n",
       "\n",
       "    .dataframe thead th {\n",
       "        text-align: right;\n",
       "    }\n",
       "</style>\n",
       "<table border=\"1\" class=\"dataframe\">\n",
       "  <thead>\n",
       "    <tr style=\"text-align: right;\">\n",
       "      <th></th>\n",
       "      <th>meanfreq</th>\n",
       "      <th>sd</th>\n",
       "      <th>median</th>\n",
       "      <th>Q25</th>\n",
       "      <th>Q75</th>\n",
       "      <th>IQR</th>\n",
       "      <th>skew</th>\n",
       "      <th>kurt</th>\n",
       "      <th>sp.ent</th>\n",
       "      <th>sfm</th>\n",
       "      <th>...</th>\n",
       "      <th>centroid</th>\n",
       "      <th>meanfun</th>\n",
       "      <th>minfun</th>\n",
       "      <th>maxfun</th>\n",
       "      <th>meandom</th>\n",
       "      <th>mindom</th>\n",
       "      <th>maxdom</th>\n",
       "      <th>dfrange</th>\n",
       "      <th>modindx</th>\n",
       "      <th>label</th>\n",
       "    </tr>\n",
       "  </thead>\n",
       "  <tbody>\n",
       "    <tr>\n",
       "      <th>0</th>\n",
       "      <td>0.059781</td>\n",
       "      <td>0.064241</td>\n",
       "      <td>0.032027</td>\n",
       "      <td>0.015071</td>\n",
       "      <td>0.090193</td>\n",
       "      <td>0.075122</td>\n",
       "      <td>12.863462</td>\n",
       "      <td>274.402906</td>\n",
       "      <td>0.893369</td>\n",
       "      <td>0.491918</td>\n",
       "      <td>...</td>\n",
       "      <td>0.059781</td>\n",
       "      <td>0.084279</td>\n",
       "      <td>0.015702</td>\n",
       "      <td>0.275862</td>\n",
       "      <td>0.007812</td>\n",
       "      <td>0.007812</td>\n",
       "      <td>0.007812</td>\n",
       "      <td>0.000000</td>\n",
       "      <td>0.000000</td>\n",
       "      <td>1</td>\n",
       "    </tr>\n",
       "    <tr>\n",
       "      <th>1</th>\n",
       "      <td>0.066009</td>\n",
       "      <td>0.067310</td>\n",
       "      <td>0.040229</td>\n",
       "      <td>0.019414</td>\n",
       "      <td>0.092666</td>\n",
       "      <td>0.073252</td>\n",
       "      <td>22.423285</td>\n",
       "      <td>634.613855</td>\n",
       "      <td>0.892193</td>\n",
       "      <td>0.513724</td>\n",
       "      <td>...</td>\n",
       "      <td>0.066009</td>\n",
       "      <td>0.107937</td>\n",
       "      <td>0.015826</td>\n",
       "      <td>0.250000</td>\n",
       "      <td>0.009014</td>\n",
       "      <td>0.007812</td>\n",
       "      <td>0.054688</td>\n",
       "      <td>0.046875</td>\n",
       "      <td>0.052632</td>\n",
       "      <td>1</td>\n",
       "    </tr>\n",
       "    <tr>\n",
       "      <th>2</th>\n",
       "      <td>0.077316</td>\n",
       "      <td>0.083829</td>\n",
       "      <td>0.036718</td>\n",
       "      <td>0.008701</td>\n",
       "      <td>0.131908</td>\n",
       "      <td>0.123207</td>\n",
       "      <td>30.757155</td>\n",
       "      <td>1024.927705</td>\n",
       "      <td>0.846389</td>\n",
       "      <td>0.478905</td>\n",
       "      <td>...</td>\n",
       "      <td>0.077316</td>\n",
       "      <td>0.098706</td>\n",
       "      <td>0.015656</td>\n",
       "      <td>0.271186</td>\n",
       "      <td>0.007990</td>\n",
       "      <td>0.007812</td>\n",
       "      <td>0.015625</td>\n",
       "      <td>0.007812</td>\n",
       "      <td>0.046512</td>\n",
       "      <td>1</td>\n",
       "    </tr>\n",
       "    <tr>\n",
       "      <th>3</th>\n",
       "      <td>0.151228</td>\n",
       "      <td>0.072111</td>\n",
       "      <td>0.158011</td>\n",
       "      <td>0.096582</td>\n",
       "      <td>0.207955</td>\n",
       "      <td>0.111374</td>\n",
       "      <td>1.232831</td>\n",
       "      <td>4.177296</td>\n",
       "      <td>0.963322</td>\n",
       "      <td>0.727232</td>\n",
       "      <td>...</td>\n",
       "      <td>0.151228</td>\n",
       "      <td>0.088965</td>\n",
       "      <td>0.017798</td>\n",
       "      <td>0.250000</td>\n",
       "      <td>0.201497</td>\n",
       "      <td>0.007812</td>\n",
       "      <td>0.562500</td>\n",
       "      <td>0.554688</td>\n",
       "      <td>0.247119</td>\n",
       "      <td>1</td>\n",
       "    </tr>\n",
       "    <tr>\n",
       "      <th>4</th>\n",
       "      <td>0.135120</td>\n",
       "      <td>0.079146</td>\n",
       "      <td>0.124656</td>\n",
       "      <td>0.078720</td>\n",
       "      <td>0.206045</td>\n",
       "      <td>0.127325</td>\n",
       "      <td>1.101174</td>\n",
       "      <td>4.333713</td>\n",
       "      <td>0.971955</td>\n",
       "      <td>0.783568</td>\n",
       "      <td>...</td>\n",
       "      <td>0.135120</td>\n",
       "      <td>0.106398</td>\n",
       "      <td>0.016931</td>\n",
       "      <td>0.266667</td>\n",
       "      <td>0.712812</td>\n",
       "      <td>0.007812</td>\n",
       "      <td>5.484375</td>\n",
       "      <td>5.476562</td>\n",
       "      <td>0.208274</td>\n",
       "      <td>1</td>\n",
       "    </tr>\n",
       "  </tbody>\n",
       "</table>\n",
       "<p>5 rows × 21 columns</p>\n",
       "</div>"
      ],
      "text/plain": [
       "   meanfreq        sd    median       Q25       Q75       IQR       skew  \\\n",
       "0  0.059781  0.064241  0.032027  0.015071  0.090193  0.075122  12.863462   \n",
       "1  0.066009  0.067310  0.040229  0.019414  0.092666  0.073252  22.423285   \n",
       "2  0.077316  0.083829  0.036718  0.008701  0.131908  0.123207  30.757155   \n",
       "3  0.151228  0.072111  0.158011  0.096582  0.207955  0.111374   1.232831   \n",
       "4  0.135120  0.079146  0.124656  0.078720  0.206045  0.127325   1.101174   \n",
       "\n",
       "          kurt    sp.ent       sfm  ...  centroid   meanfun    minfun  \\\n",
       "0   274.402906  0.893369  0.491918  ...  0.059781  0.084279  0.015702   \n",
       "1   634.613855  0.892193  0.513724  ...  0.066009  0.107937  0.015826   \n",
       "2  1024.927705  0.846389  0.478905  ...  0.077316  0.098706  0.015656   \n",
       "3     4.177296  0.963322  0.727232  ...  0.151228  0.088965  0.017798   \n",
       "4     4.333713  0.971955  0.783568  ...  0.135120  0.106398  0.016931   \n",
       "\n",
       "     maxfun   meandom    mindom    maxdom   dfrange   modindx  label  \n",
       "0  0.275862  0.007812  0.007812  0.007812  0.000000  0.000000      1  \n",
       "1  0.250000  0.009014  0.007812  0.054688  0.046875  0.052632      1  \n",
       "2  0.271186  0.007990  0.007812  0.015625  0.007812  0.046512      1  \n",
       "3  0.250000  0.201497  0.007812  0.562500  0.554688  0.247119      1  \n",
       "4  0.266667  0.712812  0.007812  5.484375  5.476562  0.208274      1  \n",
       "\n",
       "[5 rows x 21 columns]"
      ]
     },
     "execution_count": 10,
     "metadata": {},
     "output_type": "execute_result"
    }
   ],
   "source": [
    "data.head()"
   ]
  },
  {
   "cell_type": "code",
   "execution_count": 11,
   "metadata": {},
   "outputs": [
    {
     "data": {
      "text/html": [
       "<div>\n",
       "<style scoped>\n",
       "    .dataframe tbody tr th:only-of-type {\n",
       "        vertical-align: middle;\n",
       "    }\n",
       "\n",
       "    .dataframe tbody tr th {\n",
       "        vertical-align: top;\n",
       "    }\n",
       "\n",
       "    .dataframe thead th {\n",
       "        text-align: right;\n",
       "    }\n",
       "</style>\n",
       "<table border=\"1\" class=\"dataframe\">\n",
       "  <thead>\n",
       "    <tr style=\"text-align: right;\">\n",
       "      <th></th>\n",
       "      <th>meanfreq</th>\n",
       "      <th>sd</th>\n",
       "      <th>median</th>\n",
       "      <th>Q25</th>\n",
       "      <th>Q75</th>\n",
       "      <th>IQR</th>\n",
       "      <th>skew</th>\n",
       "      <th>kurt</th>\n",
       "      <th>sp.ent</th>\n",
       "      <th>sfm</th>\n",
       "      <th>...</th>\n",
       "      <th>centroid</th>\n",
       "      <th>meanfun</th>\n",
       "      <th>minfun</th>\n",
       "      <th>maxfun</th>\n",
       "      <th>meandom</th>\n",
       "      <th>mindom</th>\n",
       "      <th>maxdom</th>\n",
       "      <th>dfrange</th>\n",
       "      <th>modindx</th>\n",
       "      <th>label</th>\n",
       "    </tr>\n",
       "  </thead>\n",
       "  <tbody>\n",
       "    <tr>\n",
       "      <th>2532</th>\n",
       "      <td>0.194188</td>\n",
       "      <td>0.035109</td>\n",
       "      <td>0.196923</td>\n",
       "      <td>0.176154</td>\n",
       "      <td>0.209615</td>\n",
       "      <td>0.033462</td>\n",
       "      <td>2.976112</td>\n",
       "      <td>13.299264</td>\n",
       "      <td>0.850313</td>\n",
       "      <td>0.263144</td>\n",
       "      <td>...</td>\n",
       "      <td>0.194188</td>\n",
       "      <td>0.179228</td>\n",
       "      <td>0.047525</td>\n",
       "      <td>0.279070</td>\n",
       "      <td>1.613208</td>\n",
       "      <td>0.023438</td>\n",
       "      <td>8.531250</td>\n",
       "      <td>8.507812</td>\n",
       "      <td>0.056502</td>\n",
       "      <td>0</td>\n",
       "    </tr>\n",
       "    <tr>\n",
       "      <th>1696</th>\n",
       "      <td>0.172250</td>\n",
       "      <td>0.076857</td>\n",
       "      <td>0.198505</td>\n",
       "      <td>0.106229</td>\n",
       "      <td>0.230215</td>\n",
       "      <td>0.123986</td>\n",
       "      <td>3.184979</td>\n",
       "      <td>23.909733</td>\n",
       "      <td>0.927606</td>\n",
       "      <td>0.554812</td>\n",
       "      <td>...</td>\n",
       "      <td>0.172250</td>\n",
       "      <td>0.158126</td>\n",
       "      <td>0.015842</td>\n",
       "      <td>0.266667</td>\n",
       "      <td>0.195312</td>\n",
       "      <td>0.054688</td>\n",
       "      <td>0.687500</td>\n",
       "      <td>0.632812</td>\n",
       "      <td>0.293076</td>\n",
       "      <td>0</td>\n",
       "    </tr>\n",
       "    <tr>\n",
       "      <th>1939</th>\n",
       "      <td>0.166538</td>\n",
       "      <td>0.062168</td>\n",
       "      <td>0.177850</td>\n",
       "      <td>0.153487</td>\n",
       "      <td>0.194034</td>\n",
       "      <td>0.040547</td>\n",
       "      <td>3.777016</td>\n",
       "      <td>28.198352</td>\n",
       "      <td>0.904631</td>\n",
       "      <td>0.448051</td>\n",
       "      <td>...</td>\n",
       "      <td>0.166538</td>\n",
       "      <td>0.161053</td>\n",
       "      <td>0.017505</td>\n",
       "      <td>0.258065</td>\n",
       "      <td>0.190717</td>\n",
       "      <td>0.007812</td>\n",
       "      <td>0.468750</td>\n",
       "      <td>0.460938</td>\n",
       "      <td>0.238418</td>\n",
       "      <td>0</td>\n",
       "    </tr>\n",
       "    <tr>\n",
       "      <th>2905</th>\n",
       "      <td>0.212578</td>\n",
       "      <td>0.039313</td>\n",
       "      <td>0.210781</td>\n",
       "      <td>0.190239</td>\n",
       "      <td>0.242488</td>\n",
       "      <td>0.052249</td>\n",
       "      <td>2.591566</td>\n",
       "      <td>11.746787</td>\n",
       "      <td>0.854193</td>\n",
       "      <td>0.240463</td>\n",
       "      <td>...</td>\n",
       "      <td>0.212578</td>\n",
       "      <td>0.163817</td>\n",
       "      <td>0.047244</td>\n",
       "      <td>0.279070</td>\n",
       "      <td>1.721154</td>\n",
       "      <td>0.210938</td>\n",
       "      <td>10.898438</td>\n",
       "      <td>10.687500</td>\n",
       "      <td>0.067531</td>\n",
       "      <td>0</td>\n",
       "    </tr>\n",
       "    <tr>\n",
       "      <th>1088</th>\n",
       "      <td>0.190944</td>\n",
       "      <td>0.055071</td>\n",
       "      <td>0.204514</td>\n",
       "      <td>0.142633</td>\n",
       "      <td>0.236991</td>\n",
       "      <td>0.094357</td>\n",
       "      <td>1.326596</td>\n",
       "      <td>4.908253</td>\n",
       "      <td>0.914390</td>\n",
       "      <td>0.348963</td>\n",
       "      <td>...</td>\n",
       "      <td>0.190944</td>\n",
       "      <td>0.126507</td>\n",
       "      <td>0.050847</td>\n",
       "      <td>0.279070</td>\n",
       "      <td>0.778888</td>\n",
       "      <td>0.023438</td>\n",
       "      <td>3.515625</td>\n",
       "      <td>3.492188</td>\n",
       "      <td>0.136524</td>\n",
       "      <td>1</td>\n",
       "    </tr>\n",
       "  </tbody>\n",
       "</table>\n",
       "<p>5 rows × 21 columns</p>\n",
       "</div>"
      ],
      "text/plain": [
       "      meanfreq        sd    median       Q25       Q75       IQR      skew  \\\n",
       "2532  0.194188  0.035109  0.196923  0.176154  0.209615  0.033462  2.976112   \n",
       "1696  0.172250  0.076857  0.198505  0.106229  0.230215  0.123986  3.184979   \n",
       "1939  0.166538  0.062168  0.177850  0.153487  0.194034  0.040547  3.777016   \n",
       "2905  0.212578  0.039313  0.210781  0.190239  0.242488  0.052249  2.591566   \n",
       "1088  0.190944  0.055071  0.204514  0.142633  0.236991  0.094357  1.326596   \n",
       "\n",
       "           kurt    sp.ent       sfm  ...  centroid   meanfun    minfun  \\\n",
       "2532  13.299264  0.850313  0.263144  ...  0.194188  0.179228  0.047525   \n",
       "1696  23.909733  0.927606  0.554812  ...  0.172250  0.158126  0.015842   \n",
       "1939  28.198352  0.904631  0.448051  ...  0.166538  0.161053  0.017505   \n",
       "2905  11.746787  0.854193  0.240463  ...  0.212578  0.163817  0.047244   \n",
       "1088   4.908253  0.914390  0.348963  ...  0.190944  0.126507  0.050847   \n",
       "\n",
       "        maxfun   meandom    mindom     maxdom    dfrange   modindx  label  \n",
       "2532  0.279070  1.613208  0.023438   8.531250   8.507812  0.056502      0  \n",
       "1696  0.266667  0.195312  0.054688   0.687500   0.632812  0.293076      0  \n",
       "1939  0.258065  0.190717  0.007812   0.468750   0.460938  0.238418      0  \n",
       "2905  0.279070  1.721154  0.210938  10.898438  10.687500  0.067531      0  \n",
       "1088  0.279070  0.778888  0.023438   3.515625   3.492188  0.136524      1  \n",
       "\n",
       "[5 rows x 21 columns]"
      ]
     },
     "execution_count": 11,
     "metadata": {},
     "output_type": "execute_result"
    }
   ],
   "source": [
    "# Перемішаємо дані\n",
    "data = data.sample(frac=1)\n",
    "data.head()"
   ]
  },
  {
   "cell_type": "code",
   "execution_count": 12,
   "metadata": {},
   "outputs": [],
   "source": [
    "X_train = data.iloc[:int(len(data)*0.7), :-1]  # матрица ознак\n",
    "y_train = data.iloc[:int(len(data)*0.7), -1]  # значення полу (чоловік/жінка)\n",
    "\n",
    "X_test = data.iloc[int(len(data)*0.7):, :-1]  # матрица ознак\n",
    "y_test = data.iloc[int(len(data)*0.7):, -1]  # значення полу (чоловік/жінка)"
   ]
  },
  {
   "cell_type": "code",
   "execution_count": 13,
   "metadata": {},
   "outputs": [],
   "source": [
    "perceptron = Perceptron()\n",
    "losses=perceptron.fit(X_train.values, y_train.values)"
   ]
  },
  {
   "cell_type": "code",
   "execution_count": 14,
   "metadata": {},
   "outputs": [
    {
     "data": {
      "image/png": "[encoded data removed]",
      "text/plain": [
       "<Figure size 720x576 with 1 Axes>"
      ]
     },
     "metadata": {
      "needs_background": "light"
     },
     "output_type": "display_data"
    }
   ],
   "source": [
    "plt.figure(figsize=(10, 8))\n",
    "plt.plot(losses)\n",
    "plt.title('Функція втрат', fontsize=15)\n",
    "plt.xlabel('номер ітерації', fontsize=14)\n",
    "plt.ylabel('$Loss(\\hat{y}, y)$', fontsize=14)\n",
    "plt.show()"
   ]
  },
  {
   "cell_type": "code",
   "execution_count": 15,
   "metadata": {},
   "outputs": [],
   "source": [
    "from sklearn.metrics import accuracy_score"
   ]
  },
  {
   "cell_type": "code",
   "execution_count": 16,
   "metadata": {},
   "outputs": [
    {
     "name": "stdout",
     "output_type": "stream",
     "text": [
      "Точність нашего перцептрону: 47.950 %\n"
     ]
    }
   ],
   "source": [
    "print('Точність нашего перцептрону: {:.3f} %'.format(\n",
    "    accuracy_score(y_test.values, perceptron.forward_pass(X_test)) * 100))"
   ]
  },
  {
   "cell_type": "markdown",
   "metadata": {},
   "source": [
    "Скористуємось алгоритмом персептрону з бібліотеки `sklearn` та порівняємо результати"
   ]
  },
  {
   "cell_type": "code",
   "execution_count": 17,
   "metadata": {},
   "outputs": [],
   "source": [
    "from sklearn.linear_model import Perceptron as skPerceptron"
   ]
  },
  {
   "cell_type": "code",
   "execution_count": 18,
   "metadata": {},
   "outputs": [
    {
     "data": {
      "text/plain": [
       "Perceptron(random_state=42)"
      ]
     },
     "execution_count": 18,
     "metadata": {},
     "output_type": "execute_result"
    }
   ],
   "source": [
    "RANDOM_SEED = 42\n",
    "\n",
    "sk_perceptron = skPerceptron(random_state=RANDOM_SEED)\n",
    "sk_perceptron.fit(X_train.values, y_train.values)"
   ]
  },
  {
   "cell_type": "code",
   "execution_count": 19,
   "metadata": {},
   "outputs": [
    {
     "name": "stdout",
     "output_type": "stream",
     "text": [
      "Точність перцептрону з sklearn: 48.055 %\n"
     ]
    }
   ],
   "source": [
    "print('Точність перцептрону з sklearn: {:.3f} %'.format(\n",
    "    accuracy_score(y_test.values, sk_perceptron.predict(X_test)) * 100))"
   ]
  },
  {
   "cell_type": "markdown",
   "metadata": {},
   "source": [
    "Збільшемо кількість ітерацій"
   ]
  },
  {
   "cell_type": "code",
   "execution_count": 20,
   "metadata": {},
   "outputs": [
    {
     "data": {
      "image/png": "[encoded data removed]",
      "text/plain": [
       "<Figure size 720x576 with 1 Axes>"
      ]
     },
     "metadata": {
      "needs_background": "light"
     },
     "output_type": "display_data"
    }
   ],
   "source": [
    "perceptron = Perceptron()\n",
    "losses=perceptron.fit(X_train.values, y_train.values, num_epochs=5000)\n",
    "\n",
    "plt.figure(figsize=(10, 8))\n",
    "plt.plot(losses)\n",
    "plt.title('Функція втрат', fontsize=15)\n",
    "plt.xlabel('номер ітерації', fontsize=14)\n",
    "plt.ylabel('$Loss(\\hat{y}, y)$', fontsize=14)\n",
    "plt.show()"
   ]
  },
  {
   "cell_type": "code",
   "execution_count": 21,
   "metadata": {},
   "outputs": [
    {
     "name": "stdout",
     "output_type": "stream",
     "text": [
      "Точність нашего перцептрону: 51.945 %\n"
     ]
    }
   ],
   "source": [
    "print('Точність нашего перцептрону: {:.3f} %'.format(\n",
    "    accuracy_score(y_test.values, perceptron.forward_pass(X_test)) * 100))"
   ]
  },
  {
   "cell_type": "code",
   "execution_count": 22,
   "metadata": {},
   "outputs": [
    {
     "data": {
      "text/plain": [
       "Perceptron(max_iter=5000, random_state=42)"
      ]
     },
     "execution_count": 22,
     "metadata": {},
     "output_type": "execute_result"
    }
   ],
   "source": [
    "sk_perceptron = skPerceptron(random_state=RANDOM_SEED, max_iter=5000)\n",
    "sk_perceptron.fit(X_train.values, y_train.values, )"
   ]
  },
  {
   "cell_type": "code",
   "execution_count": 23,
   "metadata": {},
   "outputs": [
    {
     "name": "stdout",
     "output_type": "stream",
     "text": [
      "Точність перцептрону з sklearn: 48.055 %\n"
     ]
    }
   ],
   "source": [
    "print('Точність перцептрону з sklearn: {:.3f} %'.format(\n",
    "    accuracy_score(y_test.values, sk_perceptron.predict(X_test)) * 100))"
   ]
  },
  {
   "cell_type": "markdown",
   "metadata": {},
   "source": [
    "### Застосуємо нормалізацію"
   ]
  },
  {
   "cell_type": "code",
   "execution_count": 24,
   "metadata": {},
   "outputs": [],
   "source": [
    "from sklearn.preprocessing import MinMaxScaler"
   ]
  },
  {
   "cell_type": "code",
   "execution_count": 25,
   "metadata": {},
   "outputs": [],
   "source": [
    "scaler=MinMaxScaler()"
   ]
  },
  {
   "cell_type": "code",
   "execution_count": 26,
   "metadata": {},
   "outputs": [],
   "source": [
    "train=scaler.fit_transform(X_train)"
   ]
  },
  {
   "cell_type": "code",
   "execution_count": 27,
   "metadata": {},
   "outputs": [],
   "source": [
    "test = scaler.transform(X_test)"
   ]
  },
  {
   "cell_type": "code",
   "execution_count": 28,
   "metadata": {},
   "outputs": [
    {
     "data": {
      "image/png": "[encoded data removed]",
      "text/plain": [
       "<Figure size 720x576 with 1 Axes>"
      ]
     },
     "metadata": {
      "needs_background": "light"
     },
     "output_type": "display_data"
    }
   ],
   "source": [
    "perceptron = Perceptron()\n",
    "losses=perceptron.fit(train, y_train.values, num_epochs=5000)\n",
    "\n",
    "plt.figure(figsize=(10, 8))\n",
    "plt.plot(losses)\n",
    "plt.title('Функція втрат', fontsize=15)\n",
    "plt.xlabel('номер ітерації', fontsize=14)\n",
    "plt.ylabel('$Loss(\\hat{y}, y)$', fontsize=14)\n",
    "plt.show()"
   ]
  },
  {
   "cell_type": "code",
   "execution_count": 29,
   "metadata": {},
   "outputs": [
    {
     "name": "stdout",
     "output_type": "stream",
     "text": [
      "Точність нашего перцептрону: 97.476 %\n"
     ]
    }
   ],
   "source": [
    "print('Точність нашего перцептрону: {:.3f} %'.format(\n",
    "    accuracy_score(y_test.values, perceptron.forward_pass(test)) * 100))"
   ]
  },
  {
   "cell_type": "code",
   "execution_count": 30,
   "metadata": {},
   "outputs": [
    {
     "data": {
      "text/plain": [
       "Perceptron(max_iter=5000, random_state=42)"
      ]
     },
     "execution_count": 30,
     "metadata": {},
     "output_type": "execute_result"
    }
   ],
   "source": [
    "sk_perceptron = skPerceptron(random_state=RANDOM_SEED, max_iter=5000)\n",
    "sk_perceptron.fit(train, y_train.values, )"
   ]
  },
  {
   "cell_type": "code",
   "execution_count": 31,
   "metadata": {},
   "outputs": [
    {
     "name": "stdout",
     "output_type": "stream",
     "text": [
      "Точність перцептрону з sklearn: 94.532 %\n"
     ]
    }
   ],
   "source": [
    "print('Точність перцептрону з sklearn: {:.3f} %'.format(\n",
    "    accuracy_score(y_test.values, sk_perceptron.predict(test)) * 100))"
   ]
  },
  {
   "cell_type": "markdown",
   "metadata": {},
   "source": [
    "### Домашнє завдання\n",
    "- Замість loss-функції втрат написати та застосувати log-loss функцію втрат\n",
    "- Написати модель перцептрону користуючись функцією активації sigmoid. Порівняти результати\n",
    "- Протестуте інші функції активації"
   ]
  },
  {
   "cell_type": "code",
   "execution_count": null,
   "metadata": {},
   "outputs": [],
   "source": []
  }
 ],
 "metadata": {
  "kernelspec": {
   "display_name": "Python 3",
   "language": "python",
   "name": "python3"
  },
  "language_info": {
   "codemirror_mode": {
    "name": "ipython",
    "version": 3
   },
   "file_extension": ".py",
   "mimetype": "text/x-python",
   "name": "python",
   "nbconvert_exporter": "python",
   "pygments_lexer": "ipython3",
   "version": "3.6.9"
  }
 },
 "nbformat": 4,
 "nbformat_minor": 2
}
